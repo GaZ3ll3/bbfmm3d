{
 "cells": [
  {
   "cell_type": "code",
   "execution_count": 1,
   "metadata": {
    "collapsed": false
   },
   "outputs": [
    {
     "data": {
      "text/plain": [
       "true"
      ]
     },
     "execution_count": 1,
     "metadata": {},
     "output_type": "execute_result"
    }
   ],
   "source": [
    "using Cxx\n",
    "\n",
    "cxx\"\"\"\n",
    "#include<iostream>\n",
    "\"\"\"\n",
    "cxx\"\"\"\n",
    "#include \"kernel.h\"\n",
    "\"\"\"\n",
    "\n",
    "cxx\"\"\"\n",
    "void run() {\n",
    "    vector<point> s;\n",
    "    vector<point> t;\n",
    "    int N = 128;\n",
    "    for (int i = 0; i < N; ++i) {\n",
    "        double phi = M_PI * (double)rand() / RAND_MAX;\n",
    "        for (int j = 0; j < N; ++j) {\n",
    "            double theta = 2 * M_PI * (double)rand() / RAND_MAX;\n",
    "            s.push_back(point(cos(theta) * sin(phi),\n",
    "                              sin(theta) * sin(phi),\n",
    "                              cos(phi)));\n",
    "        }\n",
    "    }\n",
    "    for (int i = 0; i < N; ++i) {\n",
    "        double phi = M_PI * (double)rand() / RAND_MAX;\n",
    "        for (int j = 0; j < N; ++j) {\n",
    "            double theta = 2 * M_PI * (double)rand() / RAND_MAX;\n",
    "            t.push_back(point(cos(theta) * sin(phi),\n",
    "                              sin(theta) * sin(phi),\n",
    "                              cos(phi)));\n",
    "        }\n",
    "    }\n",
    "\n",
    "    double* c = new double[N * N];\n",
    "    for (int i = 0; i < N * N; ++i) {\n",
    "        c[i] = 1.0;\n",
    "    }\n",
    "\n",
    "\n",
    "    kernel bbfmm;\n",
    "\n",
    "    bbfmm.eval = [](point& a, point& b) {\n",
    "        double d = (a.x - b.x) * (a.x - b.x) + (a.y - b.y) * (a.y - b.y) + (a.z - b.z)*(a.z - b.z);\n",
    "        if (d < 1e-5) return 0.;\n",
    "        else return 1.0/d;\n",
    "        };\n",
    "\n",
    "    bbfmm.initialize(2, s, t, c, N * N , N * N, 80, 10);\n",
    "\n",
    "    MatrixXd potentialMatrix;\n",
    "    bbfmm.run(potentialMatrix);\n",
    "\n",
    "    // check the solution\n",
    "    MatrixXd potentialMatrix2;\n",
    "    potentialMatrix2 = MatrixXd::Zero(N*N, 1);\n",
    "\n",
    "    for (int i = 0; i < N*N; ++i) {\n",
    "        for (int j = 0; j < N*N; ++j) {\n",
    "            potentialMatrix2(j, 0) += bbfmm.eval(s[i], t[j]) * c[i];\n",
    "        }\n",
    "    }\n",
    "\n",
    "    std::cout<< \"relative error is \" << (potentialMatrix - potentialMatrix2).norm()/potentialMatrix2.norm() << std::endl;\n",
    "\n",
    "    delete[] c;\n",
    "}\n",
    "\"\"\""
   ]
  },
  {
   "cell_type": "code",
   "execution_count": 2,
   "metadata": {
    "collapsed": false
   },
   "outputs": [
    {
     "name": "stdout",
     "output_type": "stream",
     "text": [
      " initialization 0.010892 seconds\n",
      "   assign lists 0.063229 seconds\n",
      "        up-pass 0.066745 seconds\n",
      "      down-pass  0.98529 seconds\n",
      "relative error is 0.0081908\n"
     ]
    }
   ],
   "source": [
    "@cxx run()"
   ]
  }
 ],
 "metadata": {
  "kernelspec": {
   "display_name": "Julia 0.5.0",
   "language": "julia",
   "name": "julia-0.5"
  },
  "language_info": {
   "file_extension": ".jl",
   "mimetype": "application/julia",
   "name": "julia",
   "version": "0.5.0"
  }
 },
 "nbformat": 4,
 "nbformat_minor": 0
}
